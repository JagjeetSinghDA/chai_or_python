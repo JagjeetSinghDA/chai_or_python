{
 "cells": [
  {
   "cell_type": "markdown",
   "metadata": {},
   "source": [
    "## Object Types / Data Types\n",
    "\n",
    "- Number : 1234, 3.145, 3+4j, 0b111, Decimal(), Fraction()\n",
    "- String : 'spam', \"Bob's\", b'a\\x01c', u'sp\\xc4m'\n",
    "- List : [1,2,3, [5,6,7], ['a','b','c']] , list(range(10))\n",
    "- Tuple : (1, 'spam', 4, 'U'), tuple('spam'), namedtuple\n",
    "- Dictionary : {'food': 'spam', 'taste': 'yum'}, dict(hours=10)\n",
    "- Set : set('abc'), {'a', 'b', 'c'}\n",
    "- File : open('eggs.txt'), open(r'C:\\ham.bin', 'wb')\n",
    "- Boolean : True, False \n",
    "- None : None\n",
    "- Functions, Modules, classes\n",
    "- Advance : Decorators, Generatores, Iterators, MetaProgramming\n",
    "\n",
    "\n",
    "* python supports high precision\n"
   ]
  },
  {
   "cell_type": "code",
   "execution_count": 6,
   "metadata": {
    "metadata": {}
   },
   "outputs": [
    {
     "name": "stdout",
     "output_type": "stream",
     "text": [
      "[9, 8, 7, 6, 5, 4, 3, 2, 1]\n"
     ]
    }
   ],
   "source": [
    "list = [1,2,3,4,5,6,7,8,9]\n",
    "\n",
    "list.reverse()\n",
    "\n",
    "print(list)"
   ]
  },
  {
   "cell_type": "code",
   "execution_count": null,
   "metadata": {},
   "outputs": [],
   "source": []
  },
  {
   "cell_type": "code",
   "execution_count": null,
   "metadata": {},
   "outputs": [],
   "source": []
  }
 ],
 "metadata": {
  "kernelspec": {
   "display_name": "Python 3",
   "language": "python",
   "name": "python3"
  },
  "language_info": {
   "codemirror_mode": {
    "name": "ipython",
    "version": 3
   },
   "file_extension": ".py",
   "mimetype": "text/x-python",
   "name": "python",
   "nbconvert_exporter": "python",
   "pygments_lexer": "ipython3",
   "version": "3.9.6"
  }
 },
 "nbformat": 4,
 "nbformat_minor": 2
}
