{
 "cells": [
  {
   "cell_type": "code",
   "execution_count": 4,
   "metadata": {},
   "outputs": [
    {
     "name": "stdout",
     "output_type": "stream",
     "text": [
      "Child\n"
     ]
    }
   ],
   "source": [
    "# age group categorization\n",
    "\n",
    "user_age = input(\"Provide the age to knwo the category: \")\n",
    "user_age_int = int(user_age)\n",
    "\n",
    "if user_age_int < 13:\n",
    "    print('Child')\n",
    "elif 13 <= user_age_int <= 19:\n",
    "    print('Teenager')\n",
    "elif 20 <= user_age_int <= 59:\n",
    "    print('Adult')\n",
    "else:\n",
    "    print('Senior')\n"
   ]
  },
  {
   "cell_type": "code",
   "execution_count": 11,
   "metadata": {},
   "outputs": [
    {
     "name": "stdout",
     "output_type": "stream",
     "text": [
      "10\n"
     ]
    }
   ],
   "source": [
    "# Movie ticketing pricig\n",
    "\n",
    "age = int(input(\"What's your age: \"))\n",
    "day = input(\"What is the day today? \")\n",
    "price = 12 if age >= 18 else 8\n",
    "# print(price)\n",
    "if day == 'Wednesday':\n",
    "    price = price - 2 \n",
    "    print(price)"
   ]
  },
  {
   "cell_type": "code",
   "execution_count": 21,
   "metadata": {},
   "outputs": [
    {
     "name": "stdout",
     "output_type": "stream",
     "text": [
      "Grade: F\n"
     ]
    }
   ],
   "source": [
    "# Grade Calculator\n",
    "\n",
    "marks = int(input(\"What's your marks? \"))\n",
    "\n",
    "if marks < 0 or marks > 100:\n",
    "    grade = 'Wrong Grading'\n",
    "elif marks >= 90:\n",
    "    grade = 'A'\n",
    "elif marks >= 80:\n",
    "    grade = 'B'\n",
    "elif marks >= 70:\n",
    "    grade = 'C'\n",
    "elif marks >= 60:\n",
    "    grade = 'D'\n",
    "else:\n",
    "    grade = 'F'\n",
    "\n",
    "print(f\"Grade: {grade}\")"
   ]
  },
  {
   "cell_type": "code",
   "execution_count": 28,
   "metadata": {},
   "outputs": [
    {
     "name": "stdout",
     "output_type": "stream",
     "text": [
      "overripe\n"
     ]
    }
   ],
   "source": [
    "# fruit ripeness test\n",
    "\n",
    "fruit = 'Banana'\n",
    "colour = ['Green', 'Yellow', 'Brown']\n",
    "color = input(\"What's the fruit color? \")\n",
    "\n",
    "if fruit == 'Banana':\n",
    "    if color == 'Green':\n",
    "        print(\"unripe\")\n",
    "    elif color == 'Yellow':\n",
    "        print(\"ripe\")\n",
    "    elif color == 'Brown':\n",
    "        print(\"overripe\")\n"
   ]
  },
  {
   "cell_type": "code",
   "execution_count": 41,
   "metadata": {},
   "outputs": [
    {
     "name": "stdout",
     "output_type": "stream",
     "text": [
      "Activity: Go for a walk\n"
     ]
    }
   ],
   "source": [
    "# Weather Activity Suggestion\n",
    "\n",
    "weather = input(\"How's the wether today? \")\n",
    "weather = weather.capitalize()\n",
    "\n",
    "if weather == 'Sunny':\n",
    "    activity = 'Go for a walk'\n",
    "elif weather == 'Rainy':\n",
    "    activity = 'Read a book'\n",
    "elif weather == 'Snowy':\n",
    "    activity = 'Build a snowman'\n",
    "\n",
    "print(f\"Activity: {activity}\")"
   ]
  },
  {
   "cell_type": "code",
   "execution_count": 49,
   "metadata": {},
   "outputs": [
    {
     "name": "stdout",
     "output_type": "stream",
     "text": [
      "Mode of transport: Car\n"
     ]
    }
   ],
   "source": [
    "# Transportation Mode Selection\n",
    "\n",
    "distance = int(input(\"Write the distance you want to go: \"))\n",
    "\n",
    "\n",
    "if distance > 0:\n",
    "    if 0 < distance <= 3:\n",
    "        transport = 'Walk'\n",
    "    elif 3 < distance <= 15:\n",
    "        transport = 'Bike'\n",
    "    elif distance > 15:\n",
    "        transport = 'Car'\n",
    "    print(f\"Mode of transport: {transport}\") \n",
    "    \n",
    "else:\n",
    "    print(\"Wrong vlue\")\n"
   ]
  },
  {
   "cell_type": "code",
   "execution_count": 52,
   "metadata": {},
   "outputs": [
    {
     "name": "stdout",
     "output_type": "stream",
     "text": [
      "Order: Large coffee with extra shot\n"
     ]
    }
   ],
   "source": [
    "# Coffee Customization\n",
    "\n",
    "order_size = input(\"Please let us know the coffee size: \").capitalize()\n",
    "extra_shot = input(\"Do you want an extra shot of espresso: \")\n",
    "\n",
    "if extra_shot == 'yes':\n",
    "    extra_shot = True\n",
    "else:\n",
    "    extra_shot = False \n",
    "\n",
    "if extra_shot:\n",
    "    coffee = order_size + \" coffee with extra shot\"\n",
    "else:\n",
    "    coffee = order_size + \" coffee\"\n",
    "\n",
    "print(f\"Order: {coffee}\")"
   ]
  }
 ],
 "metadata": {
  "kernelspec": {
   "display_name": "Python 3",
   "language": "python",
   "name": "python3"
  },
  "language_info": {
   "codemirror_mode": {
    "name": "ipython",
    "version": 3
   },
   "file_extension": ".py",
   "mimetype": "text/x-python",
   "name": "python",
   "nbconvert_exporter": "python",
   "pygments_lexer": "ipython3",
   "version": "3.9.6"
  }
 },
 "nbformat": 4,
 "nbformat_minor": 2
}
