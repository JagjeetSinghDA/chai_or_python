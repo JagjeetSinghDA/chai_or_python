{
 "cells": [
  {
   "cell_type": "code",
   "execution_count": 4,
   "metadata": {},
   "outputs": [
    {
     "name": "stdout",
     "output_type": "stream",
     "text": [
      "Child\n"
     ]
    }
   ],
   "source": [
    "# age group categorization\n",
    "\n",
    "user_age = input(\"Provide the age to knwo the category: \")\n",
    "user_age_int = int(user_age)\n",
    "\n",
    "if user_age_int < 13:\n",
    "    print('Child')\n",
    "elif 13 <= user_age_int <= 19:\n",
    "    print('Teenager')\n",
    "elif 20 <= user_age_int <= 59:\n",
    "    print('Adult')\n",
    "else:\n",
    "    print('Senior')\n"
   ]
  },
  {
   "cell_type": "code",
   "execution_count": 5,
   "metadata": {},
   "outputs": [
    {
     "name": "stdout",
     "output_type": "stream",
     "text": [
      "6\n"
     ]
    }
   ],
   "source": [
    "# Movie ticketing pricig\n",
    "\n",
    "age = int(input(\"What's your age: \"))\n",
    "day = input(\"What is the day today? \")\n",
    "\n",
    "# price = 12 if age >= 18 else 8\n",
    "\n",
    "price = 0 \n",
    "if age <= 18:\n",
    "    price = price + 8\n",
    "else:\n",
    "    price = price + 12\n",
    "\n",
    "\n",
    "# print(price)\n",
    "if day == 'Wednesday':\n",
    "    price = price - 2 \n",
    "    print(price)\n",
    "else:\n",
    "    print(price)"
   ]
  },
  {
   "cell_type": "code",
   "execution_count": 6,
   "metadata": {},
   "outputs": [
    {
     "name": "stdout",
     "output_type": "stream",
     "text": [
      "Grade: Wrong Grading\n"
     ]
    }
   ],
   "source": [
    "# Grade Calculator\n",
    "\n",
    "marks = int(input(\"What's your marks? \"))\n",
    "\n",
    "if marks < 0 or marks > 100:\n",
    "    grade = 'Wrong Grading'\n",
    "elif marks >= 90:\n",
    "    grade = 'A'\n",
    "elif marks >= 80:\n",
    "    grade = 'B'\n",
    "elif marks >= 70:\n",
    "    grade = 'C'\n",
    "elif marks >= 60:\n",
    "    grade = 'D'\n",
    "else:\n",
    "    grade = 'F'\n",
    "\n",
    "print(f\"Grade: {grade}\")"
   ]
  },
  {
   "cell_type": "code",
   "execution_count": 7,
   "metadata": {},
   "outputs": [],
   "source": [
    "# fruit ripeness test\n",
    "\n",
    "fruit = 'Banana'\n",
    "colour = ['Green', 'Yellow', 'Brown']\n",
    "color = input(\"What's the fruit color? \")\n",
    "\n",
    "if fruit == 'Banana':\n",
    "    if color == 'Green':\n",
    "        print(\"unripe\")\n",
    "    elif color == 'Yellow':\n",
    "        print(\"ripe\")\n",
    "    elif color == 'Brown':\n",
    "        print(\"overripe\")\n"
   ]
  },
  {
   "cell_type": "code",
   "execution_count": 41,
   "metadata": {},
   "outputs": [
    {
     "name": "stdout",
     "output_type": "stream",
     "text": [
      "Activity: Go for a walk\n"
     ]
    }
   ],
   "source": [
    "# Weather Activity Suggestion\n",
    "\n",
    "weather = input(\"How's the wether today? \")\n",
    "weather = weather.capitalize()\n",
    "\n",
    "if weather == 'Sunny':\n",
    "    activity = 'Go for a walk'\n",
    "elif weather == 'Rainy':\n",
    "    activity = 'Read a book'\n",
    "elif weather == 'Snowy':\n",
    "    activity = 'Build a snowman'\n",
    "\n",
    "print(f\"Activity: {activity}\")"
   ]
  },
  {
   "cell_type": "code",
   "execution_count": 10,
   "metadata": {},
   "outputs": [
    {
     "name": "stdout",
     "output_type": "stream",
     "text": [
      "Wrong value\n"
     ]
    }
   ],
   "source": [
    "# Transportation Mode Selection\n",
    "\n",
    "distance = int(input(\"Write the distance you want to go: \"))\n",
    "\n",
    "\n",
    "if distance > 0:\n",
    "    if 0 < distance <= 3:\n",
    "        transport = 'Walk'\n",
    "    elif 3 < distance <= 15:\n",
    "        transport = 'Bike'\n",
    "    elif distance > 15:\n",
    "        transport = 'Car'\n",
    "    print(f\"Mode of transport: {transport}\") \n",
    "    \n",
    "else:\n",
    "    print(\"Wrong value\")\n"
   ]
  },
  {
   "cell_type": "code",
   "execution_count": 13,
   "metadata": {},
   "outputs": [
    {
     "name": "stdout",
     "output_type": "stream",
     "text": [
      "Order: Sma coffee\n"
     ]
    }
   ],
   "source": [
    "# Coffee Customization\n",
    "\n",
    "order_size = input(\"Please let us know the coffee size: ['small', 'Medium', 'LARGE'] \").capitalize()\n",
    "extra_shot = input(\"Do you want an extra shot of espresso: \")\n",
    "\n",
    "if extra_shot == 'yes':\n",
    "    extra_shot = True\n",
    "else:\n",
    "    extra_shot = False \n",
    "\n",
    "if extra_shot:\n",
    "    coffee = order_size + \" coffee with extra shot\"\n",
    "else:\n",
    "    coffee = order_size + \" coffee\"\n",
    "\n",
    "print(f\"Order: {coffee}\")"
   ]
  },
  {
   "cell_type": "code",
   "execution_count": 16,
   "metadata": {},
   "outputs": [
    {
     "name": "stdout",
     "output_type": "stream",
     "text": [
      "Password strength is Weak\n"
     ]
    }
   ],
   "source": [
    "password = input(\"Type password to check the strength: \")\n",
    "pass_len = len(password)\n",
    "\n",
    "if pass_len < 6:\n",
    "    strength = \"Weak\"\n",
    "elif pass_len < 10:\n",
    "    strength = \"Medium\"\n",
    "else:\n",
    "    strength = 'Strong'\n",
    "\n",
    "print(f'Password strength is {strength}')"
   ]
  },
  {
   "cell_type": "code",
   "execution_count": 1,
   "metadata": {},
   "outputs": [
    {
     "name": "stdout",
     "output_type": "stream",
     "text": [
      "20001 is not a leap year.\n"
     ]
    }
   ],
   "source": [
    "year = int(input(\"Type the year to check if it is leap or not: \"))\n",
    "\n",
    "if (year % 4 == 0 and year % 100 != 0) or (year % 400 == 0):\n",
    "    print(f'{year} is a leap year.')\n",
    "else:\n",
    "    print(f'{year} is not a leap year.')\n"
   ]
  },
  {
   "cell_type": "code",
   "execution_count": 24,
   "metadata": {},
   "outputs": [
    {
     "name": "stdout",
     "output_type": "stream",
     "text": [
      "Puppy food\n"
     ]
    }
   ],
   "source": [
    "pet = (input(\"Type the pet to know the best food for her: \")).strip().capitalize()\n",
    "age = int(input(\"Type the age to know the best food: \"))\n",
    "\n",
    "if pet == 'Dog':\n",
    "    if age < 2:\n",
    "        food = 'Puppy food'\n",
    "    else:\n",
    "        food = 'Dog Food'\n",
    "elif pet == 'Cat':\n",
    "    if age > 5:\n",
    "        food = 'Senior cat food'\n",
    "    else:\n",
    "        food = 'Kitten food'\n",
    "else:\n",
    "    'Data not found'\n",
    "\n",
    "print(food)"
   ]
  },
  {
   "cell_type": "code",
   "execution_count": 13,
   "metadata": {},
   "outputs": [
    {
     "name": "stdout",
     "output_type": "stream",
     "text": [
      "Recommended food: Adult cat food\n"
     ]
    }
   ],
   "source": [
    "def recommend_pet_food(species, age):\n",
    "    if species.lower() == 'dog':\n",
    "        if age < 2:\n",
    "            return \"Puppy food\"\n",
    "        elif 2 <= age <= 7:\n",
    "            return \"Adult dog food\"\n",
    "        else:\n",
    "            return \"Senior dog food\"\n",
    "    elif species.lower() == 'cat':\n",
    "        if age < 1:\n",
    "            return \"Kitten food\"\n",
    "        elif 1 <= age <= 7:\n",
    "            return \"Adult cat food\"\n",
    "        else:\n",
    "            return \"Senior cat food\"\n",
    "    else:\n",
    "        return \"Unknown species. Please enter either 'dog' or 'cat'.\"\n",
    "\n",
    "def main():\n",
    "    species = input(\"Enter the pet species (dog/cat): \")\n",
    "    age = float(input(\"Enter the pet age in years: \"))\n",
    "\n",
    "    recommendation = recommend_pet_food(species, age)\n",
    "    print(f\"Recommended food: {recommendation}\")\n",
    "\n",
    "if __name__ == \"__main__\":\n",
    "    main()\n"
   ]
  }
 ],
 "metadata": {
  "kernelspec": {
   "display_name": "Python 3",
   "language": "python",
   "name": "python3"
  },
  "language_info": {
   "codemirror_mode": {
    "name": "ipython",
    "version": 3
   },
   "file_extension": ".py",
   "mimetype": "text/x-python",
   "name": "python",
   "nbconvert_exporter": "python",
   "pygments_lexer": "ipython3",
   "version": "3.9.6"
  }
 },
 "nbformat": 4,
 "nbformat_minor": 2
}
